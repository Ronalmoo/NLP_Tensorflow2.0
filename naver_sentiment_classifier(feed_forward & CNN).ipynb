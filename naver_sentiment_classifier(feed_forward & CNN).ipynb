{
 "cells": [
  {
   "cell_type": "code",
   "execution_count": 25,
   "metadata": {},
   "outputs": [],
   "source": [
    "import os \n",
    "import datetime\n",
    "import tensorflow as tf\n",
    "from tensorflow import keras\n",
    "import numpy as np\n",
    "import json\n",
    "from sklearn.model_selection import train_test_split"
   ]
  },
  {
   "cell_type": "code",
   "execution_count": 26,
   "metadata": {},
   "outputs": [],
   "source": [
    "# 미리 전처리한 데이터 로드(train_data)\n",
    "DATA_IN_PATH = './data_in/'\n",
    "DATA_OUT_PATH = './data_out/'\n",
    "INPUT_TRAIN_DATA_FILE_NAME = 'nsmc_train_input.npy'\n",
    "LABEL_TRAIN_DATA_FILE_NAME = 'nsmc_train_label.npy'\n",
    "DATA_CONFIGS_FILE_NAME = 'data_configs.json'\n",
    "\n",
    "input_data = np.load(open(DATA_IN_PATH + INPUT_TRAIN_DATA_FILE_NAME, 'rb'))\n",
    "label_data = np.load(open(DATA_IN_PATH + LABEL_TRAIN_DATA_FILE_NAME, 'rb'))\n",
    "prepro_configs = json.load(open(DATA_IN_PATH + DATA_CONFIGS_FILE_NAME, 'r'))"
   ]
  },
  {
   "cell_type": "code",
   "execution_count": 27,
   "metadata": {},
   "outputs": [
    {
     "data": {
      "text/plain": [
       "((149995, 8), (149995,))"
      ]
     },
     "execution_count": 27,
     "metadata": {},
     "output_type": "execute_result"
    }
   ],
   "source": [
    "input_data.shape, label_data.shape"
   ]
  },
  {
   "cell_type": "code",
   "execution_count": 28,
   "metadata": {},
   "outputs": [],
   "source": [
    "X_train, X_valid, y_train, y_valid = train_test_split(input_data, label_data,\n",
    "                                                    test_size=0.2, random_state=42)"
   ]
  },
  {
   "cell_type": "code",
   "execution_count": null,
   "metadata": {},
   "outputs": [],
   "source": [
    "batch_size = 16\n",
    "n_epochs = 10\n",
    "vocab_size = prepro_configs['vocab_size'] + 1\n",
    "embedding_size = 128"
   ]
  },
  {
   "cell_type": "markdown",
   "metadata": {},
   "source": [
    "# Model(basic)"
   ]
  },
  {
   "cell_type": "code",
   "execution_count": 112,
   "metadata": {},
   "outputs": [
    {
     "name": "stdout",
     "output_type": "stream",
     "text": [
      "Model: \"sequential_53\"\n",
      "_________________________________________________________________\n",
      "Layer (type)                 Output Shape              Param #   \n",
      "=================================================================\n",
      "embedding_41 (Embedding)     (None, None, 16)          700128    \n",
      "_________________________________________________________________\n",
      "dropout_135 (Dropout)        (None, None, 16)          0         \n",
      "_________________________________________________________________\n",
      "global_average_pooling1d_9 ( (None, 16)                0         \n",
      "_________________________________________________________________\n",
      "dropout_136 (Dropout)        (None, 16)                0         \n",
      "_________________________________________________________________\n",
      "dense_83 (Dense)             (None, 16)                272       \n",
      "_________________________________________________________________\n",
      "dropout_137 (Dropout)        (None, 16)                0         \n",
      "_________________________________________________________________\n",
      "dense_84 (Dense)             (None, 1)                 17        \n",
      "=================================================================\n",
      "Total params: 700,417\n",
      "Trainable params: 700,417\n",
      "Non-trainable params: 0\n",
      "_________________________________________________________________\n"
     ]
    }
   ],
   "source": [
    "model = keras.Sequential([\n",
    "    keras.layers.Embedding(vocab_size, batch_size, input_shape=(None,)),\n",
    "    keras.layers.Dropout(0.2),\n",
    "    keras.layers.GlobalAveragePooling1D(),\n",
    "    keras.layers.Dropout(0.2),\n",
    "    keras.layers.Dense(batch_size, activation='relu'),\n",
    "    keras.layers.Dropout(0.2),\n",
    "    keras.layers.Dense(1, activation='sigmoid') # 이진 분류\n",
    "])\n",
    "model.summary()"
   ]
  },
  {
   "cell_type": "code",
   "execution_count": 69,
   "metadata": {},
   "outputs": [],
   "source": [
    "model.compile(optimizer='adam',\n",
    "              loss='binary_crossentropy',\n",
    "              metrics=['accuracy'])"
   ]
  },
  {
   "cell_type": "markdown",
   "metadata": {},
   "source": [
    "# Training"
   ]
  },
  {
   "cell_type": "code",
   "execution_count": 70,
   "metadata": {},
   "outputs": [
    {
     "name": "stdout",
     "output_type": "stream",
     "text": [
      "Train on 119996 samples, validate on 29999 samples\n",
      "Epoch 1/10\n",
      "119996/119996 [==============================] - 36s 298us/sample - loss: 0.4724 - accuracy: 0.7749 - val_loss: 0.4037 - val_accuracy: 0.8117\n",
      "Epoch 2/10\n",
      "119996/119996 [==============================] - 36s 297us/sample - loss: 0.4135 - accuracy: 0.8187 - val_loss: 0.4027 - val_accuracy: 0.8133\n",
      "Epoch 3/10\n",
      "119996/119996 [==============================] - 36s 298us/sample - loss: 0.3957 - accuracy: 0.8281 - val_loss: 0.4019 - val_accuracy: 0.8151\n",
      "Epoch 4/10\n",
      "119996/119996 [==============================] - 35s 294us/sample - loss: 0.3811 - accuracy: 0.8368 - val_loss: 0.4043 - val_accuracy: 0.8147\n",
      "Epoch 5/10\n",
      "119996/119996 [==============================] - 35s 293us/sample - loss: 0.3723 - accuracy: 0.8416 - val_loss: 0.4039 - val_accuracy: 0.8152\n",
      "Epoch 6/10\n",
      "119996/119996 [==============================] - 36s 296us/sample - loss: 0.3669 - accuracy: 0.8450 - val_loss: 0.4088 - val_accuracy: 0.8159\n",
      "Epoch 7/10\n",
      "119996/119996 [==============================] - 36s 302us/sample - loss: 0.3595 - accuracy: 0.8492 - val_loss: 0.4113 - val_accuracy: 0.8141\n",
      "Epoch 8/10\n",
      "119996/119996 [==============================] - 36s 298us/sample - loss: 0.3569 - accuracy: 0.8509 - val_loss: 0.4136 - val_accuracy: 0.8141\n",
      "Epoch 9/10\n",
      "119996/119996 [==============================] - 36s 299us/sample - loss: 0.3522 - accuracy: 0.8547 - val_loss: 0.4113 - val_accuracy: 0.8135\n",
      "Epoch 10/10\n",
      "119996/119996 [==============================] - 35s 295us/sample - loss: 0.3468 - accuracy: 0.8561 - val_loss: 0.4143 - val_accuracy: 0.8145\n"
     ]
    }
   ],
   "source": [
    "history = model.fit(X_train, y_train,\n",
    "                   epochs=n_epochs,\n",
    "                   batch_size=batch_size,\n",
    "                   validation_data=(X_valid, y_valid),\n",
    "                   verbose=1)"
   ]
  },
  {
   "cell_type": "markdown",
   "metadata": {},
   "source": [
    "# Evaluate"
   ]
  },
  {
   "cell_type": "code",
   "execution_count": 71,
   "metadata": {},
   "outputs": [],
   "source": [
    "# 미리 전처리한 데이터 로드(test_data)\n",
    "INPUT_TEST_DATA = 'nsmc_test_input.npy'\n",
    "LABEL_TEST_DATA = 'nsmc_test_label.npy'\n",
    "\n",
    "test_input_data = np.load(open(DATA_IN_PATH + INPUT_TEST_DATA, 'rb'))\n",
    "test_label_data = np.load(open(DATA_IN_PATH + LABEL_TEST_DATA, 'rb'))"
   ]
  },
  {
   "cell_type": "code",
   "execution_count": 72,
   "metadata": {},
   "outputs": [
    {
     "name": "stdout",
     "output_type": "stream",
     "text": [
      "49997/49997 [==============================] - 1s 14us/sample - loss: 0.4187 - accuracy: 0.8119\n"
     ]
    },
    {
     "data": {
      "text/plain": [
       "[0.4187378094143006, 0.8119487]"
      ]
     },
     "execution_count": 72,
     "metadata": {},
     "output_type": "execute_result"
    }
   ],
   "source": [
    "results = model.evaluate(test_input_data, test_label_data)\n",
    "results"
   ]
  },
  {
   "cell_type": "markdown",
   "metadata": {},
   "source": [
    "# CNN"
   ]
  },
  {
   "cell_type": "code",
   "execution_count": 116,
   "metadata": {},
   "outputs": [
    {
     "name": "stdout",
     "output_type": "stream",
     "text": [
      "Model: \"sequential_55\"\n",
      "_________________________________________________________________\n",
      "Layer (type)                 Output Shape              Param #   \n",
      "=================================================================\n",
      "embedding_43 (Embedding)     (None, None, 128)         5601024   \n",
      "_________________________________________________________________\n",
      "dropout_143 (Dropout)        (None, None, 128)         0         \n",
      "_________________________________________________________________\n",
      "conv1d_100 (Conv1D)          (None, None, 128)         49280     \n",
      "_________________________________________________________________\n",
      "dropout_144 (Dropout)        (None, None, 128)         0         \n",
      "_________________________________________________________________\n",
      "global_max_pooling1d_62 (Glo (None, 128)               0         \n",
      "_________________________________________________________________\n",
      "dense_87 (Dense)             (None, 250)               32250     \n",
      "_________________________________________________________________\n",
      "dropout_145 (Dropout)        (None, 250)               0         \n",
      "_________________________________________________________________\n",
      "dense_88 (Dense)             (None, 1)                 251       \n",
      "=================================================================\n",
      "Total params: 5,682,805\n",
      "Trainable params: 5,682,805\n",
      "Non-trainable params: 0\n",
      "_________________________________________________________________\n"
     ]
    }
   ],
   "source": [
    "model = keras.models.Sequential([\n",
    "    tf.keras.layers.Embedding(vocab_size, 128),\n",
    "    tf.keras.layers.Dropout(0.5),\n",
    "    tf.keras.layers.Conv1D(filters=128, kernel_size=3, activation='relu', padding=\"VALID\"),\n",
    "    tf.keras.layers.Dropout(0.5),\n",
    "    tf.keras.layers.GlobalMaxPool1D(),\n",
    "    tf.keras.layers.Dense(250, activation='relu'),\n",
    "    tf.keras.layers.Dropout(0.5),\n",
    "    tf.keras.layers.Dense(1, activation='sigmoid')\n",
    "])\n",
    "model.summary()"
   ]
  },
  {
   "cell_type": "markdown",
   "metadata": {},
   "source": [
    "## Training "
   ]
  },
  {
   "cell_type": "code",
   "execution_count": 118,
   "metadata": {},
   "outputs": [
    {
     "name": "stdout",
     "output_type": "stream",
     "text": [
      "Train on 119996 samples, validate on 29999 samples\n",
      "Epoch 1/10\n",
      "119996/119996 [==============================] - 289s 2ms/sample - loss: 0.4504 - accuracy: 0.7869 - val_loss: 0.4126 - val_accuracy: 0.8162\n",
      "Epoch 2/10\n",
      "119996/119996 [==============================] - 275s 2ms/sample - loss: 0.3787 - accuracy: 0.8342 - val_loss: 0.3887 - val_accuracy: 0.8220\n",
      "Epoch 3/10\n",
      "119996/119996 [==============================] - 289s 2ms/sample - loss: 0.3454 - accuracy: 0.8531 - val_loss: 0.4012 - val_accuracy: 0.8232\n",
      "Epoch 4/10\n",
      "119996/119996 [==============================] - 284s 2ms/sample - loss: 0.3220 - accuracy: 0.8650 - val_loss: 0.3905 - val_accuracy: 0.8221\n",
      "Epoch 5/10\n",
      "119996/119996 [==============================] - 299s 2ms/sample - loss: 0.3049 - accuracy: 0.8733 - val_loss: 0.4018 - val_accuracy: 0.8210\n",
      "Epoch 6/10\n",
      "119996/119996 [==============================] - 297s 2ms/sample - loss: 0.2901 - accuracy: 0.8814 - val_loss: 0.4002 - val_accuracy: 0.8225\n",
      "Epoch 7/10\n",
      "119996/119996 [==============================] - 291s 2ms/sample - loss: 0.2785 - accuracy: 0.8878 - val_loss: 0.4046 - val_accuracy: 0.8208\n",
      "Epoch 8/10\n",
      "119996/119996 [==============================] - 285s 2ms/sample - loss: 0.2667 - accuracy: 0.8934 - val_loss: 0.4054 - val_accuracy: 0.8176\n",
      "Epoch 9/10\n",
      "119996/119996 [==============================] - 298s 2ms/sample - loss: 0.2598 - accuracy: 0.8955 - val_loss: 0.4217 - val_accuracy: 0.8174\n",
      "Epoch 10/10\n",
      "119996/119996 [==============================] - 300s 3ms/sample - loss: 0.2529 - accuracy: 0.8998 - val_loss: 0.4196 - val_accuracy: 0.8182\n"
     ]
    }
   ],
   "source": [
    "model.compile(loss=\"binary_crossentropy\", optimizer=\"adam\", metrics=['accuracy'])\n",
    "history = model.fit(X_train, y_train,\n",
    "                   epochs=n_epochs,\n",
    "                   batch_size=batch_size,\n",
    "                   validation_data=(X_valid, y_valid),\n",
    "                   verbose=1)"
   ]
  },
  {
   "cell_type": "markdown",
   "metadata": {},
   "source": [
    "# Evaluate"
   ]
  },
  {
   "cell_type": "code",
   "execution_count": 119,
   "metadata": {},
   "outputs": [
    {
     "name": "stdout",
     "output_type": "stream",
     "text": [
      "49997/49997 [==============================] - 1s 29us/sample - loss: 0.4271 - accuracy: 0.8157\n"
     ]
    },
    {
     "data": {
      "text/plain": [
       "[0.4270623373952387, 0.81568897]"
      ]
     },
     "execution_count": 119,
     "metadata": {},
     "output_type": "execute_result"
    }
   ],
   "source": [
    "# 미리 전처리한 데이터 로드(test_data)\n",
    "results = model.evaluate(test_input_data, test_label_data)\n",
    "results"
   ]
  },
  {
   "cell_type": "markdown",
   "metadata": {},
   "source": [
    "| models       | Train_accuracy | Validation_accuracy | Test_accuracy |\n",
    "|--------------|----------------|---------------------|---------------|\n",
    "| feed_forward | 85.61%         | 81.45%              | 81.19%        |\n",
    "|      CNN     | 89.98%         | 81.82%              | 81.56%        |"
   ]
  }
 ],
 "metadata": {
  "kernelspec": {
   "display_name": "Python 3",
   "language": "python",
   "name": "python3"
  },
  "language_info": {
   "codemirror_mode": {
    "name": "ipython",
    "version": 3
   },
   "file_extension": ".py",
   "mimetype": "text/x-python",
   "name": "python",
   "nbconvert_exporter": "python",
   "pygments_lexer": "ipython3",
   "version": "3.7.2"
  }
 },
 "nbformat": 4,
 "nbformat_minor": 2
}
